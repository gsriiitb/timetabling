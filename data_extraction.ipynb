{
 "cells": [
  {
   "cell_type": "code",
   "execution_count": 1,
   "metadata": {},
   "outputs": [
    {
     "name": "stdout",
     "output_type": "stream",
     "text": [
      "Requirement already satisfied: openpyxl in /home/sarvesh/miniconda3/envs/timetabling/lib/python3.10/site-packages (3.1.5)\n",
      "Requirement already satisfied: et-xmlfile in /home/sarvesh/miniconda3/envs/timetabling/lib/python3.10/site-packages (from openpyxl) (2.0.0)\n",
      "Note: you may need to restart the kernel to use updated packages.\n",
      "Requirement already satisfied: xlrd in /home/sarvesh/miniconda3/envs/timetabling/lib/python3.10/site-packages (2.0.1)\n",
      "Note: you may need to restart the kernel to use updated packages.\n"
     ]
    }
   ],
   "source": [
    "%pip install openpyxl\n",
    "\n",
    "%pip install xlrd\n",
    "\n",
    "import pandas as pd"
   ]
  },
  {
   "cell_type": "code",
   "execution_count": 2,
   "metadata": {},
   "outputs": [
    {
     "name": "stdout",
     "output_type": "stream",
     "text": [
      "Data successfully loaded into DataFrame.\n",
      "Filtered data successfully saved to 'enrollment_master.csv'.\n"
     ]
    }
   ],
   "source": [
    "file_name = \"T2-24-25-Enrollments-after-Add-Drop-Process-v3.xls\"\n",
    "try:\n",
    "    df = pd.read_excel(file_name, sheet_name=\"Course Roster Report\", usecols=[\"Course\",\"Section\",\"OTHER/REGULAR-ELECTIVE/REGULAR-CORE\",\"Course Variant\",\"Student ID\",\"Email ID\",\"Batch\"])\n",
    "    print(\"Data successfully loaded into DataFrame.\")\n",
    "    df.to_csv(\"enrollment_master.csv\", index=False)\n",
    "    print(\"Filtered data successfully saved to 'enrollment_master.csv'.\")\n",
    "    \n",
    "except Exception as e:\n",
    "    print(f\"An error occurred: {e}\")\n"
   ]
  },
  {
   "cell_type": "code",
   "execution_count": 3,
   "metadata": {},
   "outputs": [],
   "source": [
    "file_name = \"enrollment_master.csv\"\n",
    "df = pd.read_csv(file_name)\n",
    "# df2 = pd.read_csv(file_name)\n",
    "df1 =  pd.DataFrame()\n",
    "\n",
    "df = df[df['OTHER/REGULAR-ELECTIVE/REGULAR-CORE'] != 'OTHER']\n",
    "df1['Code'] = df['Course'].str.split('/').str[0]\n",
    "df1['Title'] = df['Course'].str.split('/').str[1]\n",
    "df['CourseCode'] = df['Course'].str.split('/').str[0]\n",
    "df['CourseTitle'] = df['Course'].str.split('/').str[1]\n",
    "\n",
    "df1 = df1.drop_duplicates()\n",
    "df = df.drop_duplicates()\n",
    "\n",
    "df.drop('Course', axis=1, inplace=True)\n",
    "\n",
    "df1.to_csv(\"course_master.csv\", index=False)\n",
    "df.to_csv(\"enrollment_master.csv\", index=False)\n"
   ]
  },
  {
   "cell_type": "code",
   "execution_count": 4,
   "metadata": {},
   "outputs": [],
   "source": [
    "file_name = \"enrollment_master.csv\"\n",
    "df = pd.read_csv(file_name)\n",
    "new_order = [\n",
    "    'CourseCode',\n",
    "    'CourseTitle',\n",
    "    'OTHER/REGULAR-ELECTIVE/REGULAR-CORE',\n",
    "    'Course Variant',\n",
    "    'Student ID',\n",
    "    'Batch',\n",
    "    'Section',\n",
    "    'Email ID'\n",
    "]\n",
    "\n",
    "df = df[new_order]\n",
    "\n",
    "# rename column Email ID to EmailID\n",
    "\n",
    "df.rename(columns={'Email ID': 'EmailID'}, inplace=True)\n",
    "\n",
    "df.to_csv(file_name, index=False)"
   ]
  },
  {
   "cell_type": "code",
   "execution_count": 5,
   "metadata": {},
   "outputs": [],
   "source": [
    "# Add a new column called Lab in course_master.csv if 'lab' string is found in the title column\n",
    "\n",
    "file_name = \"course_master.csv\"\n",
    "df = pd.read_csv(file_name)\n",
    "\n",
    "df['Lab'] = df['Title'].str.contains('lab', case=False)\n",
    "df.to_csv(file_name, index=False)"
   ]
  },
  {
   "cell_type": "code",
   "execution_count": 6,
   "metadata": {},
   "outputs": [],
   "source": [
    "# Add a new column called Lab in classroom_master.csv if 'LAB' string is found in the RoomNumber column\n",
    "\n",
    "file_name = \"classroom_master.csv\"\n",
    "df = pd.read_csv(file_name)\n",
    "\n",
    "df['Lab'] = df['RoomNumber'].str.contains('LAB', case=False)\n",
    "df.to_csv(file_name, index=False)\n",
    "\n"
   ]
  },
  {
   "cell_type": "code",
   "execution_count": 7,
   "metadata": {},
   "outputs": [],
   "source": [
    "# Add a new column called Dept in course_master.csv if 'CSE ' string or 'AIM' or 'DAS' is found in the Code column then set the value as CSE else set it as ECE\n",
    "\n",
    "file_name = \"course_master.csv\"\n",
    "\n",
    "df = pd.read_csv(file_name)\n",
    "\n",
    "df['Dept'] = df['Code'].str.contains('CSE|AIM|DAS', case=False)\n",
    "df['Dept'] = df['Dept'].map({True: 'CSE', False: 'ECE'})\n",
    "df.to_csv(file_name, index=False)\n"
   ]
  },
  {
   "cell_type": "code",
   "execution_count": 8,
   "metadata": {},
   "outputs": [],
   "source": [
    "# Add a new column called DeptLab in classroom_master.csv if Lab column is True and 'R' string is found in the RoomNumber column\n",
    "\n",
    "file_name = \"classroom_master.csv\"\n",
    "df = pd.read_csv(file_name)\n",
    "\n",
    "df['DeptLab'] = df['Lab'] & df['RoomNumber'].str.contains('R', case=False)\n",
    "df.to_csv(file_name, index=False)"
   ]
  },
  {
   "cell_type": "code",
   "execution_count": 9,
   "metadata": {},
   "outputs": [],
   "source": [
    "file_name = \"enrollment_master.csv\"\n",
    "df = pd.read_csv(file_name)\n",
    "\n",
    "# \"CSE 102 P , Data Structures and Algorithms lab,REGULAR-CORE,CSE 102 P/Data Structures and Algorithms lab/Term II 2024-25/T224-CSE 102P-Sec-A,BT2024001,2024-25 B.Tech CSE,T224-CSE 102P-Sec-A,Arjun.Sai@iiitb.ac.in\"\n",
    "# This is an entry in enrollment.csv file \n",
    "# I want to add update the existing 'Section' column. If the current 'Section' columnn value is 'T224-CSE 102P-Sec-A' then I want to update it to 'A' and if it is 'T224-CSE 102P-Sec-B' then I want to update it to 'B' and if there is no section mentioned then just change it to 'A'\n",
    "# do it using a for loop\n",
    "#It is just an exmaple \n",
    "# for index, row in df.iterrows():\n",
    "#     if row['Section'] == 'T224-CSE 102P-Sec-A':\n",
    "#         df.at[index, 'Section'] = 'A'\n",
    "#     elif row['Section'] == 'T224-CSE 102P-Sec-B':\n",
    "#         df.at[index, 'Section'] = 'B'\n",
    "#     else:\n",
    "#         df.at[index, 'Section'] = 'A'\n",
    "\n",
    "for index,row in df.iterrows():\n",
    "    if 'Sec' in row['Section']:\n",
    "        df.at[index, 'Section'] = row['Section'].split('-')[-1]\n",
    "    else:\n",
    "        df.at[index, 'Section'] = 'A'\n",
    "\n",
    "df.to_csv(file_name, index=False)"
   ]
  },
  {
   "cell_type": "code",
   "execution_count": 10,
   "metadata": {},
   "outputs": [],
   "source": [
    "# # Create a new file with columns as Code and Exam Choice. The entries for column Code are same as from 'course_master.csv' and fill 'Same' for everythig in Exam choice column\n",
    "\n",
    "# file_name = \"course_master.csv\"\n",
    "# df = pd.read_csv(file_name)\n",
    "\n",
    "# df1 = pd.DataFrame()\n",
    "# df1['Code'] = df['Code']\n",
    "# df1['Exam Choice'] = 'Same'\n",
    "# df1.to_csv(\"exam_choice.csv\", index=False)"
   ]
  },
  {
   "cell_type": "code",
   "execution_count": 11,
   "metadata": {},
   "outputs": [],
   "source": [
    "# Delete entries in 'enrollment_master.csv' file where the coursecode matches with code column in exam_choice.csv but the exam choice column is 'NoExam'ArithmeticError\n",
    "\n",
    "df = pd.read_csv(\"enrollment_master.csv\")\n",
    "\n",
    "df1 = pd.read_csv(\"exam_choice.csv\")\n",
    "\n",
    "for index1, row1 in df1.iterrows():\n",
    "    if df1.at[index1, 'Exam Choice'] == 'NoExam':\n",
    "        # loop through all the entries of df and check if the course code matches with the code in df1 and the section is 'A' then update the CourseCode to 'CSE 102 P-A'\n",
    "        for index, row in df.iterrows():\n",
    "            if row['CourseCode'] == row1['Code']:\n",
    "                df.drop(index, inplace=True)\n",
    "\n",
    "df.to_csv(\"enrollment_master.csv\", index=False)"
   ]
  },
  {
   "cell_type": "code",
   "execution_count": 12,
   "metadata": {},
   "outputs": [],
   "source": [
    "# Update column Coursecode in 'enrollment_master.csv' file. If the value is 'CSE 102 P' then update it to 'CSE 102 P-A' if the section is 'A' and the the corresponding entry in exam_choice.csv is different\n",
    "\n",
    "df = pd.read_csv(\"enrollment_master.csv\")\n",
    "\n",
    "df1 = pd.read_csv(\"exam_choice.csv\")\n",
    "\n",
    "for index1, row1 in df1.iterrows():\n",
    "    if df1.at[index1, 'Exam Choice'] != 'Same':\n",
    "        # print(row1['Code'])\n",
    "        # df.at[index, 'CourseCode'] = row['CourseCode'] + '-' + row['Section']\n",
    "        # loop through all the entries of df and check if the course code matches with the code in df1 and the section is 'A' then update the CourseCode to 'CSE 102 P-A'\n",
    "        for index, row in df.iterrows():\n",
    "            if row['CourseCode'] == row1['Code']:\n",
    "                # print(row['CourseCode'])\n",
    "                df.at[index, 'CourseCode'] = row['CourseCode'] + '-' + row['Section']\n",
    "                # print(row['CourseCode'])\n",
    "\n",
    "df.to_csv(\"enrollment_master.csv\", index=False)\n"
   ]
  },
  {
   "cell_type": "code",
   "execution_count": 13,
   "metadata": {},
   "outputs": [],
   "source": [
    "file_name = \"enrollment_master.csv\"\n",
    "df = pd.read_csv(file_name)\n",
    "# df2 = pd.read_csv(file_name)\n",
    "df1 =  pd.DataFrame()\n",
    "\n",
    "df1['Code'] = df['CourseCode']\n",
    "df1['Title'] = df['CourseTitle'] \n",
    "\n",
    "df1 = df1.drop_duplicates()\n",
    "df1.to_csv(\"course_master.csv\", index=False)\n"
   ]
  },
  {
   "cell_type": "code",
   "execution_count": 14,
   "metadata": {},
   "outputs": [],
   "source": [
    "# Add a new column called Lab in course_master.csv if 'lab' string is found in the title column\n",
    "\n",
    "file_name = \"course_master.csv\"\n",
    "df = pd.read_csv(file_name)\n",
    "\n",
    "df['Lab'] = df['Title'].str.contains('lab', case=False)\n",
    "df.to_csv(file_name, index=False)"
   ]
  },
  {
   "cell_type": "code",
   "execution_count": 15,
   "metadata": {},
   "outputs": [],
   "source": [
    "# Add a new column called Dept in course_master.csv if 'CSE ' string or 'AIM' or 'DAS' is found in the Code column then set the value as CSE else set it as ECE\n",
    "\n",
    "file_name = \"course_master.csv\"\n",
    "\n",
    "df = pd.read_csv(file_name)\n",
    "\n",
    "df['Dept'] = df['Code'].str.contains('CSE|AIM|DAS', case=False)\n",
    "df['Dept'] = df['Dept'].map({True: 'CSE', False: 'ECE'})\n",
    "df.to_csv(file_name, index=False)\n"
   ]
  }
 ],
 "metadata": {
  "kernelspec": {
   "display_name": "timetabling",
   "language": "python",
   "name": "python3"
  },
  "language_info": {
   "codemirror_mode": {
    "name": "ipython",
    "version": 3
   },
   "file_extension": ".py",
   "mimetype": "text/x-python",
   "name": "python",
   "nbconvert_exporter": "python",
   "pygments_lexer": "ipython3",
   "version": "3.10.14"
  }
 },
 "nbformat": 4,
 "nbformat_minor": 2
}
