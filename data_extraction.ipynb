{
 "cells": [
  {
   "cell_type": "code",
   "execution_count": 16,
   "metadata": {},
   "outputs": [
    {
     "name": "stdout",
     "output_type": "stream",
     "text": [
      "Requirement already satisfied: openpyxl in /home/owais/miniconda3/envs/timetabling/lib/python3.10/site-packages (3.1.5)\n",
      "Requirement already satisfied: et-xmlfile in /home/owais/miniconda3/envs/timetabling/lib/python3.10/site-packages (from openpyxl) (2.0.0)\n",
      "\n",
      "\u001b[1m[\u001b[0m\u001b[34;49mnotice\u001b[0m\u001b[1;39;49m]\u001b[0m\u001b[39;49m A new release of pip is available: \u001b[0m\u001b[31;49m24.0\u001b[0m\u001b[39;49m -> \u001b[0m\u001b[32;49m25.0\u001b[0m\n",
      "\u001b[1m[\u001b[0m\u001b[34;49mnotice\u001b[0m\u001b[1;39;49m]\u001b[0m\u001b[39;49m To update, run: \u001b[0m\u001b[32;49mpip install --upgrade pip\u001b[0m\n",
      "Note: you may need to restart the kernel to use updated packages.\n",
      "Requirement already satisfied: xlrd in /home/owais/miniconda3/envs/timetabling/lib/python3.10/site-packages (2.0.1)\n",
      "\n",
      "\u001b[1m[\u001b[0m\u001b[34;49mnotice\u001b[0m\u001b[1;39;49m]\u001b[0m\u001b[39;49m A new release of pip is available: \u001b[0m\u001b[31;49m24.0\u001b[0m\u001b[39;49m -> \u001b[0m\u001b[32;49m25.0\u001b[0m\n",
      "\u001b[1m[\u001b[0m\u001b[34;49mnotice\u001b[0m\u001b[1;39;49m]\u001b[0m\u001b[39;49m To update, run: \u001b[0m\u001b[32;49mpip install --upgrade pip\u001b[0m\n",
      "Note: you may need to restart the kernel to use updated packages.\n"
     ]
    }
   ],
   "source": [
    "%pip install openpyxl\n",
    "\n",
    "%pip install xlrd"
   ]
  },
  {
   "cell_type": "code",
   "execution_count": 17,
   "metadata": {},
   "outputs": [
    {
     "name": "stdout",
     "output_type": "stream",
     "text": [
      "Data successfully loaded into DataFrame.\n",
      "Filtered data successfully saved to 'classroom_master.csv'.\n"
     ]
    }
   ],
   "source": [
    "import pandas as pd\n",
    "\n",
    "# Load the Excel file\n",
    "file_name = \"sarani_dump.xlsx\"\n",
    "\n",
    "# Load the data from the 'room_master' sheet into a pandas DataFrame\n",
    "try:\n",
    "    # Specify the columns to load\n",
    "    df = pd.read_excel(file_name, sheet_name=\"room_master\", usecols=[\"room_no\", \"capacity\"])\n",
    "    print(\"Data successfully loaded into DataFrame.\")\n",
    "    \n",
    "    # Rename the columns\n",
    "    df.rename(columns={\"room_no\": \"RoomNumber\", \"capacity\": \"Capacity\"}, inplace=True)\n",
    "    \n",
    "    # Save the DataFrame to a new CSV file\n",
    "    df.to_csv(\"classroom_master.csv\", index=False)\n",
    "    print(\"Filtered data successfully saved to 'classroom_master.csv'.\")\n",
    "    \n",
    "except Exception as e:\n",
    "    print(f\"An error occurred: {e}\")\n"
   ]
  },
  {
   "cell_type": "code",
   "execution_count": 18,
   "metadata": {},
   "outputs": [
    {
     "name": "stdout",
     "output_type": "stream",
     "text": [
      "Data successfully loaded into DataFrame.\n",
      "Filtered data successfully saved to 'course_master.csv'.\n"
     ]
    }
   ],
   "source": [
    "# Load the Excel file\n",
    "file_name = \"sarani_dump.xlsx\"\n",
    "\n",
    "# Load the data from the 'room_master' sheet into a pandas DataFrame\n",
    "try:\n",
    "    # Specify the columns to load\n",
    "    df = pd.read_excel(file_name, sheet_name=\"course_master\", usecols=[\"code\", \"name\"])\n",
    "    print(\"Data successfully loaded into DataFrame.\")\n",
    "    \n",
    "    # Rename the columns\n",
    "    df.rename(columns={\"code\": \"Code\", \"name\": \"Title\"}, inplace=True)\n",
    "    \n",
    "    # Save the DataFrame to a new CSV file\n",
    "    df.to_csv(\"course_master.csv\", index=False)\n",
    "    print(\"Filtered data successfully saved to 'course_master.csv'.\")\n",
    "    \n",
    "except Exception as e:\n",
    "    print(f\"An error occurred: {e}\")"
   ]
  },
  {
   "cell_type": "code",
   "execution_count": 19,
   "metadata": {},
   "outputs": [
    {
     "name": "stdout",
     "output_type": "stream",
     "text": [
      "Data successfully loaded into DataFrame.\n",
      "Filtered data successfully saved to 'enrollment_master.csv'.\n"
     ]
    }
   ],
   "source": [
    "# Load the Excel file\n",
    "file_name = \"T2-24-25-Enrollments-after-Add-Drop-Process-v3.xls\"\n",
    "\n",
    "# Load the data from the 'room_master' sheet into a pandas DataFrame\n",
    "try:\n",
    "    # Specify the columns to load\n",
    "    df = pd.read_excel(file_name, sheet_name=\"Course Roster Report\", usecols=[\"Section\", \"Email ID\"])\n",
    "    print(\"Data successfully loaded into DataFrame.\")\n",
    "    \n",
    "    # Rename the columns\n",
    "    df.rename(columns={\"Section\": \"Course Code\"}, inplace=True)\n",
    "    \n",
    "    # Save the DataFrame to a new CSV file\n",
    "    df.to_csv(\"enrollment_master.csv\", index=False)\n",
    "    print(\"Filtered data successfully saved to 'enrollment_master.csv'.\")\n",
    "    \n",
    "except Exception as e:\n",
    "    print(f\"An error occurred: {e}\")\n"
   ]
  },
  {
   "cell_type": "code",
   "execution_count": null,
   "metadata": {},
   "outputs": [],
   "source": []
  }
 ],
 "metadata": {
  "kernelspec": {
   "display_name": "timetabling",
   "language": "python",
   "name": "python3"
  },
  "language_info": {
   "codemirror_mode": {
    "name": "ipython",
    "version": 3
   },
   "file_extension": ".py",
   "mimetype": "text/x-python",
   "name": "python",
   "nbconvert_exporter": "python",
   "pygments_lexer": "ipython3",
   "version": "3.10.14"
  }
 },
 "nbformat": 4,
 "nbformat_minor": 2
}
