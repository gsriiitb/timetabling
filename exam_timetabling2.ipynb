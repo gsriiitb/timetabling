{
 "cells": [
  {
   "cell_type": "code",
   "execution_count": 2,
   "metadata": {},
   "outputs": [
    {
     "name": "stdout",
     "output_type": "stream",
     "text": [
      "Restricted license - for non-production use only - expires 2026-11-23\n"
     ]
    }
   ],
   "source": [
    "import gurobipy as gp\n",
    "from gurobipy import GRB\n",
    "from IPython.display import display, Math, Latex\n",
    "\n",
    "import import_ipynb\n",
    "import data_utils as data\n",
    "tt = gp.Model('IIITB Exams Timetable')\n"
   ]
  },
  {
   "cell_type": "code",
   "execution_count": 4,
   "metadata": {},
   "outputs": [
    {
     "name": "stdout",
     "output_type": "stream",
     "text": [
      "10\n"
     ]
    }
   ],
   "source": [
    "def exam_length(c):\n",
    "    # return data.exam_lengths[c] \n",
    "    return 6 #(1.5hr)\n",
    "\n",
    "print(data.n_courses)\n",
    "exam_spans = {c: data.begin_end_pairs(data.get_exam_duration(c)) for c in range(data.n_courses)}\n",
    "\n",
    "E = tt.addVars(\n",
    "    [\n",
    "        (c ,b ,e, d)\n",
    "        for c in range(data.n_courses)\n",
    "        for b, e in exam_spans[c]\n",
    "        for d in range(data.n_days)\n",
    "    ],\n",
    "    vtype=GRB.BINARY,\n",
    "    name=\"E\",\n",
    ")\n"
   ]
  },
  {
   "cell_type": "code",
   "execution_count": 5,
   "metadata": {},
   "outputs": [],
   "source": [
    "C = tt.addVars(\n",
    "    [\n",
    "        (c,r)\n",
    "        for c in range(data.n_courses)\n",
    "        for r in range(data.n_rooms)\n",
    "    ],\n",
    "    vtype=GRB.INTEGER,\n",
    "    name=\"C\",\n",
    ")"
   ]
  },
  {
   "cell_type": "code",
   "execution_count": null,
   "metadata": {},
   "outputs": [],
   "source": [
    "# Hard constraints\n",
    "\n",
    "# Exactly one exam_slot for each course\n",
    "# sum of enrolments in courses assigned to a room <= sum of capacities of rooms allocated\n",
    "# no clash for any student"
   ]
  },
  {
   "cell_type": "code",
   "execution_count": 1,
   "metadata": {},
   "outputs": [],
   "source": [
    "def signum(x):\n",
    "    if x>0:\n",
    "        return 1\n",
    "    return 0"
   ]
  },
  {
   "cell_type": "code",
   "execution_count": null,
   "metadata": {},
   "outputs": [],
   "source": [
    "# Constraint 1: Each exam is scheduled exactly once\n",
    "tt.addConstrs(\n",
    "    (E.sum(c, '*', '*', '*') == 1 for c in range(data.n_courses)),\n",
    "    name=\"one_exam_per_course\",\n",
    ")\n",
    "\n",
    "# Constraint 2: Room capacity constraint C[c, r]*E[c, b, e, d] <= room_capacity[r] for all rooms\n",
    "\n",
    "# tt.addConstrs(\n",
    "   \n",
    "#     # (\n",
    "#     #     C['*', r] * E.sum('*', '*', '*', '*') <= data.room_capacities[r] \n",
    "#     #     for r in range(data.n_rooms)\n",
    "#     # ),\n",
    "# )\n",
    "tt.addConstrs((gp.quicksum(C[c,r]*S[b,e,d,s]\n",
    "                          for c in range(data.n_courses)\n",
    "                          for b,e in covering_sessions(s, t)) <= 1\n",
    "              for d in range(data.n_days)\n",
    "              for r in range(data.n_rooms)\n",
    "              for t in range(data.n_times)),\n",
    "              name = 'room_capacity_constraint'\n",
    "             )\n",
    "\n",
    "# Constraint 3: All students for a course should write the exam \n",
    "tt.addConstrs(\n",
    "    # (\n",
    "    #     C[c, r] * E[c, b, e, d] <= data.enrolments[c]\n",
    "    #     for c in range(data.n_courses)\n",
    "    #     for r in range(data.n_rooms)\n",
    "    #     for b, e in exam_spans[c]\n",
    "    #     for d in range(data.n_days)\n",
    "    # ),\n",
    "    (\n",
    "        C[c, '*'] * E.sum(c, '*', '*', '*') <= data.enrolments[c]\n",
    "        for c in range(data.n_courses)\n",
    "    ),\n",
    "    name=\"course_enrollment_constraint\",\n",
    ")\n",
    "\n",
    "# Constraint 4: Student clash constraint\n",
    "\n",
    "# for each student, for each day, for each time slot, at most one exam\n",
    "# sigma Ecbed <= 1 for courses enrolled by student s\n",
    "\n",
    "# tt.addConstrs((gp.quicksum(C[c,r]*S[b,e,d,s]\n",
    "#                           for c in range(data.n_courses)\n",
    "#                           for r in range(data.n_rooms)\n",
    "#                           for s in classes_for_course(c)\n",
    "#                           for b,e in covering_sessions(s, t)) <= 1\n",
    "#               for d in range(data.n_days)\n",
    "#               for t in range(data.n_times)),\n",
    "#               name='room_double_booking'\n",
    "#              )\n",
    "\n",
    "tt.addConstrs(\n",
    "    (\n",
    "        gp.quicksum(E[c, '*', '*', '*'] for c in data.student_courses[s]) <= 1\n",
    "        for s in range(data.n_students)\n",
    "    ),\n",
    "   \n",
    "    name=\"student_clash_constraint\",\n",
    ")\n",
    "\n",
    "# No course can have more than 3 rooms alloted\n",
    "tt.addConstrs(\n",
    "    (\n",
    "        gp.quicksum(signum(C[c, r]) for r in range(data.n_rooms)) <= 3\n",
    "        for c in range(data.n_courses)\n",
    "    ),\n",
    "    name=\"course_room_constraint\",\n",
    ")\n",
    "\n",
    "\n",
    "\n",
    "\n",
    "\n"
   ]
  }
 ],
 "metadata": {
  "kernelspec": {
   "display_name": "timetabling",
   "language": "python",
   "name": "python3"
  },
  "language_info": {
   "codemirror_mode": {
    "name": "ipython",
    "version": 3
   },
   "file_extension": ".py",
   "mimetype": "text/x-python",
   "name": "python",
   "nbconvert_exporter": "python",
   "pygments_lexer": "ipython3",
   "version": "3.10.14"
  }
 },
 "nbformat": 4,
 "nbformat_minor": 2
}
