{
 "cells": [
  {
   "cell_type": "code",
   "execution_count": null,
   "id": "ee1b3ab8-4e3a-41ee-9f93-12e91d28ce8c",
   "metadata": {},
   "outputs": [],
   "source": [
    "import gurobipy as gp\n",
    "from gurobipy import GRB\n",
    "from IPython.display import display, Math, Latex\n",
    "import math\n",
    "\n",
    "import import_ipynb\n",
    "import data_utils as data\n",
    "tt = gp.Model('IIITB Course Timetable')"
   ]
  },
  {
   "cell_type": "code",
   "execution_count": null,
   "id": "35f3e8c6-e017-4672-a358-0f01aae93506",
   "metadata": {},
   "outputs": [],
   "source": [
    "\n",
    "# make a dict of sessions --- each course splits into as many sessions are there are\n",
    "# during the week for that course\n",
    "# add other course attributes as needed like the enrollment strength etc.\n",
    "def get_number_of_sessions(course:int):\n",
    "    return \n",
    "# sessions = {}\n",
    "course_session_map = {}\n",
    "cnt=0\n",
    "for course in range(data.n_courses):\n",
    "    course_session_map[course] = []\n",
    "    for i in range(get_number_of_sessions(course)):\n",
    "        course_session_map[course].append(cnt)\n",
    "        cnt+=1\n",
    "# n_sessions = len(sessions)\n",
    "n_sessions = cnt\n",
    "\n",
    "print(course_session_map)\n",
    "print(n_sessions)\n"
   ]
  },
  {
   "cell_type": "code",
   "execution_count": null,
   "id": "ff3cd040-97c4-4598-b6d1-ac80e80675fd",
   "metadata": {},
   "outputs": [],
   "source": [
    "def session_length(s:int):\n",
    "    # get session length (in 15 min chunks) for the course corresponding to the session 's'\n",
    "    return 6 # used the default value here\n",
    "\n",
    "session_spans = {s: data.begin_end_pairs(session_length(s)) for s in range(n_sessions)}\n",
    "\n",
    "S = tt.addVars(\n",
    "    [\n",
    "        (b,e,d,s)\n",
    "        for s in range(n_sessions)\n",
    "        for d in range(data.n_days)\n",
    "        for b, e in session_spans[s]\n",
    "    ],\n",
    "    vtype=GRB.BINARY,\n",
    "    name=\"S\",\n",
    ")\n",
    "\n",
    "# Each course is assigned a classroom through these indicator variables\n",
    "C = tt.addVars(\n",
    "    [\n",
    "        (c,r)\n",
    "        for c in range(data.n_courses)\n",
    "        for r in range(data.n_rooms)\n",
    "    ],\n",
    "    vtype=GRB.BINARY,\n",
    "    name=\"C\",\n",
    ")"
   ]
  },
  {
   "cell_type": "markdown",
   "id": "c335ae54-6f8b-41f8-8d9d-088170c29d62",
   "metadata": {},
   "source": [
    "## Hard Constraints\n",
    "##### Each session gets exactly one slot during the week: $\\forall s: \\sum_{b,e,d} S_{beds}=1$\n",
    "##### Each Course gets exactly one room: $\\forall c: \\sum_r C_{cr}=1$\n",
    "##### Course enrollment cannot exceed room capacity: $\\forall c, r: C_{cr}. \\texttt{enrollment}(c)\\leq \\texttt{capacity}(r)$\n",
    "##### At most one session assigned to any room at any given time & day: $\\forall d, t: \\sum_{c,r,s,b,e}C_{cr}.S_{beds}\\leq  1$\n",
    "$s$ is a session corresponding to course 'c', (b,e) is a valid time interval for session 's' containing time 't'. Note that $C_{cr}.S_{beds}=1$ if and only if course 'c' is assigned room 'r' and a session 's' for the course is scheduled on day 'd' to start at 'b' and end at 'e'. Clearly there can be at most one such session containing 't'."
   ]
  },
  {
   "cell_type": "code",
   "execution_count": null,
   "id": "c9830e10-64f1-49c1-abd0-14745dc3456b",
   "metadata": {},
   "outputs": [],
   "source": [
    "# ----- Each session gets exactly one slot during the week ------------------\n",
    "tt.addConstrs((S.sum('*','*','*',s) == 1 for s in range(n_sessions)),\n",
    "              name='one_slot_per_session'\n",
    "             )\n",
    "\n",
    "# ----- Each course gets exactly one classroom --------------------\n",
    "tt.addConstrs((C.sum(c,'*') == 1 for c in range(data.n_courses)),\n",
    "              name='one_room_per_course'\n",
    "             )\n",
    "\n",
    "# ----- Course enrollment does not exceed the classroom capacity --------------------\n",
    "def capacity(room:int):\n",
    "    # returns the capacity of the room given the room id (in the 'classrooms' dataframe)\n",
    "    return 1\n",
    "\n",
    "def enrollment(c:int):\n",
    "    # returns the enrollment strength of the course, given the course id (in the 'courses' dataframe)\n",
    "    return 1\n",
    "\n",
    "# Capacity constraints\n",
    "tt.addConstrs((C[c,r]*enrollment(c) <= capacity(r)\n",
    "              for c in range(data.n_courses)\n",
    "              for r in range(data.n_rooms)),\n",
    "              name='course_room_fit'\n",
    "             )\n",
    "\n",
    "# -------------- At most one session assigned to any room at any given time ---------------\n",
    "def classes_for_course(course:int):\n",
    "    # Return the list of class indices for the given course\n",
    "    return course_session_map[course]\n",
    "\n",
    "def covering_sessions(s:int, t:int):\n",
    "    # Return the list of begin-end pairs for session 's' overlapping with time 't'\n",
    "    return [(b,e) for b,e in session_spans[s] if not data.overlap(b,e,t)]\n",
    "tt.update()"
   ]
  },
  {
   "cell_type": "code",
   "execution_count": null,
   "id": "8539b6f0",
   "metadata": {},
   "outputs": [],
   "source": [
    "\n",
    "for d in range(data.n_days):\n",
    "    for t in range(data.n_times):\n",
    "        tt.addConstr(gp.quicksum(C[c,r]*S[b,e,d,s]\n",
    "                            for c in range(data.n_courses)\n",
    "                            for r in range(data.n_rooms)\n",
    "                            for s in classes_for_course(c)\n",
    "                            for b,e in covering_sessions(s, t)) <= 1)\n",
    "tt.update()"
   ]
  },
  {
   "cell_type": "markdown",
   "id": "3a87414b-b19a-4543-b7dd-a2f9c2b06fdb",
   "metadata": {},
   "source": [
    "## Other Hard Constraints"
   ]
  },
  {
   "cell_type": "code",
   "execution_count": null,
   "id": "dbb6d8dd-a4d2-418a-bacc-1f34bf9948e2",
   "metadata": {},
   "outputs": [],
   "source": [
    "# Every Faculty member can be teaching at most one course at a time\n",
    "\n",
    "for d in range(data.n_days):\n",
    "    for t in range(data.n_times):\n",
    "        # every faculty will take only one class\n",
    "        for f in range(data.n_faculties):\n",
    "            tt.addConstr(gp.quicksum(S[b, e, d, s]\n",
    "                                     for c in data.get_courses_by_faculty(f)\n",
    "                                     for s in classes_for_course(c)\n",
    "                                     for b, e in covering_sessions(s, t)) <= 1\n",
    "                                     , name = 'faculty_constraint')\n",
    "\n",
    "tt.update()\n"
   ]
  },
  {
   "cell_type": "code",
   "execution_count": null,
   "id": "80ef6fde",
   "metadata": {},
   "outputs": [],
   "source": [
    "# core courses for the same batch cannot clash"
   ]
  },
  {
   "cell_type": "markdown",
   "id": "636189f2-0e2d-43b7-a58a-3b460f88ceea",
   "metadata": {},
   "source": [
    "## Soft Constraints"
   ]
  },
  {
   "cell_type": "code",
   "execution_count": null,
   "id": "b02f7a73-f0df-4ebb-aa25-e369942c5116",
   "metadata": {},
   "outputs": [],
   "source": [
    "# preferred time slots for courses / faculty\n",
    "# at least one day gap between two consecutive sessions of a course\n",
    "# one constraint for each student --- to ensure there is no clash\n",
    "# only lab courses have to be slotted at 2PM on Monday or Wednesday (high priority -- though not a hard constraint)\n",
    "\n",
    "# add the slack variables to the list of variables"
   ]
  },
  {
   "cell_type": "code",
   "execution_count": null,
   "id": "e1dc4600-6287-4ea4-97ee-a0f9aeac9445",
   "metadata": {},
   "outputs": [],
   "source": [
    "def is_lab_tutorial(s:int):\n",
    "    # Returns true if the session with index 's' is a lab/tutorial course\n",
    "    return False\n",
    "\n",
    "lab_tut_slack = tt.addVar(vtype=GRB.BINARY, name=\"lab_tut_slack\")\n",
    "print(lab_tut_slack.getAttr(GRB.Attr.VarName))\n",
    "\n",
    "tt.addConstrs((S[b,e,d,s] - lab_tut_slack == 0\n",
    "              for s in range(n_sessions) if not is_lab_tutorial(s)\n",
    "              for d, t in data.no_lecture_slots\n",
    "              for b, e in covering_sessions(s, t)\n",
    "              ),\n",
    "              name='no_lecture_slots')"
   ]
  },
  {
   "cell_type": "markdown",
   "id": "11d81b92-dfc0-41a4-8211-09cbed8cc6e5",
   "metadata": {},
   "source": [
    "## Objective Function"
   ]
  },
  {
   "cell_type": "code",
   "execution_count": null,
   "id": "318db7dc-1640-48a8-8c37-d8bc9335ea98",
   "metadata": {},
   "outputs": [],
   "source": [
    "# Minimize Sum\n",
    "# --- elective clashes\n",
    "# --- slack for soft constraints (possibly with weights)"
   ]
  },
  {
   "cell_type": "code",
   "execution_count": null,
   "id": "8a1ea6c0-7cee-4eac-9a86-c862411c6aed",
   "metadata": {},
   "outputs": [],
   "source": [
    "# weights = {lab_tut_slack.get(gp.): 1}\n",
    "# objective = gp.quicksum(tt.getVarByName(name)*w for name, w in weights.items())\n",
    "# tt.setObjective(objective, sense=GRB.MINIMIZE)\n",
    "\n",
    "\n"
   ]
  },
  {
   "cell_type": "markdown",
   "id": "a0364d73-982d-43ee-a035-270232e29653",
   "metadata": {},
   "source": [
    "## Optimize"
   ]
  },
  {
   "cell_type": "code",
   "execution_count": null,
   "id": "2455024c-3940-48bc-814d-e4fe2b5831b2",
   "metadata": {},
   "outputs": [],
   "source": [
    "tt.optimize()"
   ]
  }
 ],
 "metadata": {
  "kernelspec": {
   "display_name": "timetabling",
   "language": "python",
   "name": "python3"
  },
  "language_info": {
   "codemirror_mode": {
    "name": "ipython",
    "version": 3
   },
   "file_extension": ".py",
   "mimetype": "text/x-python",
   "name": "python",
   "nbconvert_exporter": "python",
   "pygments_lexer": "ipython3",
   "version": "3.10.14"
  }
 },
 "nbformat": 4,
 "nbformat_minor": 5
}
