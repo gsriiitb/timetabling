{
 "cells": [
  {
   "cell_type": "code",
   "execution_count": 1,
   "id": "2054a344-4d33-4a4d-bd5b-e5d2ee3771df",
   "metadata": {},
   "outputs": [
    {
     "name": "stderr",
     "output_type": "stream",
     "text": [
      "/home/owais/miniconda3/envs/timetabling/lib/python3.10/site-packages/nbformat/__init__.py:93: MissingIDFieldWarning: Code cell is missing an id field, this will become a hard error in future nbformat versions. You may want to use `normalize()` on your notebooks before validations (available since nbformat 5.1.4). Previous versions of nbformat are fixing this issue transparently, and will stop doing so in the future.\n",
      "  validate(nb)\n"
     ]
    },
    {
     "name": "stdout",
     "output_type": "stream",
     "text": [
      "Set parameter WLSAccessID\n",
      "Set parameter WLSSecret\n",
      "Set parameter LicenseID to value 2615624\n",
      "Academic license 2615624 - for non-commercial use only - registered to mo___@iiitb.ac.in\n"
     ]
    }
   ],
   "source": [
    "import gurobipy as gp\n",
    "from gurobipy import GRB\n",
    "from IPython.display import display, Math, Latex\n",
    "\n",
    "import import_ipynb\n",
    "import data_utils as data\n",
    "tt = gp.Model('IIITB Exams Timetable')"
   ]
  },
  {
   "cell_type": "markdown",
   "id": "6e804840-3e30-4bb3-9e06-754267faa576",
   "metadata": {},
   "source": [
    "## Make one binary variable for each room-course-timeslot-day combination\n",
    "$$\n",
    "E_{crtd} =\n",
    "\\begin{cases} \n",
    "1 & \\text{if a course $c$ exam is scheduled in room $r$ at time $t$ on day $d$,} \\\\\n",
    "0 & \\text{Otherwise.}\n",
    "\\end{cases}\n",
    "$$"
   ]
  },
  {
   "cell_type": "code",
   "execution_count": 2,
   "id": "ff3cd040-97c4-4598-b6d1-ac80e80675fd",
   "metadata": {},
   "outputs": [
    {
     "ename": "KeyError",
     "evalue": "'ExamDuration'",
     "output_type": "error",
     "traceback": [
      "\u001b[0;31m---------------------------------------------------------------------------\u001b[0m",
      "\u001b[0;31mKeyError\u001b[0m                                  Traceback (most recent call last)",
      "File \u001b[0;32m~/miniconda3/envs/timetabling/lib/python3.10/site-packages/pandas/core/indexes/base.py:3805\u001b[0m, in \u001b[0;36mIndex.get_loc\u001b[0;34m(self, key)\u001b[0m\n\u001b[1;32m   3804\u001b[0m \u001b[38;5;28;01mtry\u001b[39;00m:\n\u001b[0;32m-> 3805\u001b[0m     \u001b[38;5;28;01mreturn\u001b[39;00m \u001b[38;5;28;43mself\u001b[39;49m\u001b[38;5;241;43m.\u001b[39;49m\u001b[43m_engine\u001b[49m\u001b[38;5;241;43m.\u001b[39;49m\u001b[43mget_loc\u001b[49m\u001b[43m(\u001b[49m\u001b[43mcasted_key\u001b[49m\u001b[43m)\u001b[49m\n\u001b[1;32m   3806\u001b[0m \u001b[38;5;28;01mexcept\u001b[39;00m \u001b[38;5;167;01mKeyError\u001b[39;00m \u001b[38;5;28;01mas\u001b[39;00m err:\n",
      "File \u001b[0;32mindex.pyx:167\u001b[0m, in \u001b[0;36mpandas._libs.index.IndexEngine.get_loc\u001b[0;34m()\u001b[0m\n",
      "File \u001b[0;32mindex.pyx:196\u001b[0m, in \u001b[0;36mpandas._libs.index.IndexEngine.get_loc\u001b[0;34m()\u001b[0m\n",
      "File \u001b[0;32mpandas/_libs/hashtable_class_helper.pxi:7081\u001b[0m, in \u001b[0;36mpandas._libs.hashtable.PyObjectHashTable.get_item\u001b[0;34m()\u001b[0m\n",
      "File \u001b[0;32mpandas/_libs/hashtable_class_helper.pxi:7089\u001b[0m, in \u001b[0;36mpandas._libs.hashtable.PyObjectHashTable.get_item\u001b[0;34m()\u001b[0m\n",
      "\u001b[0;31mKeyError\u001b[0m: 'ExamDuration'",
      "\nThe above exception was the direct cause of the following exception:\n",
      "\u001b[0;31mKeyError\u001b[0m                                  Traceback (most recent call last)",
      "Cell \u001b[0;32mIn[2], line 2\u001b[0m\n\u001b[1;32m      1\u001b[0m \u001b[38;5;66;03m#Dhruv's part:\u001b[39;00m\n\u001b[0;32m----> 2\u001b[0m exam_spans \u001b[38;5;241m=\u001b[39m {c: data\u001b[38;5;241m.\u001b[39mbegin_end_pairs(data\u001b[38;5;241m.\u001b[39mget_exam_duration(c)) \u001b[38;5;28;01mfor\u001b[39;00m c \u001b[38;5;129;01min\u001b[39;00m \u001b[38;5;28mrange\u001b[39m(data\u001b[38;5;241m.\u001b[39mn_courses)}\n\u001b[1;32m      4\u001b[0m E \u001b[38;5;241m=\u001b[39m tt\u001b[38;5;241m.\u001b[39maddVars(\n\u001b[1;32m      5\u001b[0m     [\n\u001b[1;32m      6\u001b[0m         (c ,b ,e, d)\n\u001b[0;32m   (...)\u001b[0m\n\u001b[1;32m     12\u001b[0m     name\u001b[38;5;241m=\u001b[39m\u001b[38;5;124m\"\u001b[39m\u001b[38;5;124mE\u001b[39m\u001b[38;5;124m\"\u001b[39m,\n\u001b[1;32m     13\u001b[0m )\n\u001b[1;32m     15\u001b[0m C \u001b[38;5;241m=\u001b[39m tt\u001b[38;5;241m.\u001b[39maddVars(\n\u001b[1;32m     16\u001b[0m     [\n\u001b[1;32m     17\u001b[0m         (c,r)\n\u001b[0;32m   (...)\u001b[0m\n\u001b[1;32m     23\u001b[0m     name\u001b[38;5;241m=\u001b[39m\u001b[38;5;124m\"\u001b[39m\u001b[38;5;124mC\u001b[39m\u001b[38;5;124m\"\u001b[39m,\n\u001b[1;32m     24\u001b[0m )\n",
      "Cell \u001b[0;32mIn[2], line 2\u001b[0m, in \u001b[0;36m<dictcomp>\u001b[0;34m(.0)\u001b[0m\n\u001b[1;32m      1\u001b[0m \u001b[38;5;66;03m#Dhruv's part:\u001b[39;00m\n\u001b[0;32m----> 2\u001b[0m exam_spans \u001b[38;5;241m=\u001b[39m {c: data\u001b[38;5;241m.\u001b[39mbegin_end_pairs(\u001b[43mdata\u001b[49m\u001b[38;5;241;43m.\u001b[39;49m\u001b[43mget_exam_duration\u001b[49m\u001b[43m(\u001b[49m\u001b[43mc\u001b[49m\u001b[43m)\u001b[49m) \u001b[38;5;28;01mfor\u001b[39;00m c \u001b[38;5;129;01min\u001b[39;00m \u001b[38;5;28mrange\u001b[39m(data\u001b[38;5;241m.\u001b[39mn_courses)}\n\u001b[1;32m      4\u001b[0m E \u001b[38;5;241m=\u001b[39m tt\u001b[38;5;241m.\u001b[39maddVars(\n\u001b[1;32m      5\u001b[0m     [\n\u001b[1;32m      6\u001b[0m         (c ,b ,e, d)\n\u001b[0;32m   (...)\u001b[0m\n\u001b[1;32m     12\u001b[0m     name\u001b[38;5;241m=\u001b[39m\u001b[38;5;124m\"\u001b[39m\u001b[38;5;124mE\u001b[39m\u001b[38;5;124m\"\u001b[39m,\n\u001b[1;32m     13\u001b[0m )\n\u001b[1;32m     15\u001b[0m C \u001b[38;5;241m=\u001b[39m tt\u001b[38;5;241m.\u001b[39maddVars(\n\u001b[1;32m     16\u001b[0m     [\n\u001b[1;32m     17\u001b[0m         (c,r)\n\u001b[0;32m   (...)\u001b[0m\n\u001b[1;32m     23\u001b[0m     name\u001b[38;5;241m=\u001b[39m\u001b[38;5;124m\"\u001b[39m\u001b[38;5;124mC\u001b[39m\u001b[38;5;124m\"\u001b[39m,\n\u001b[1;32m     24\u001b[0m )\n",
      "File \u001b[0;32m<string>:2\u001b[0m, in \u001b[0;36mget_exam_duration\u001b[0;34m(course_id)\u001b[0m\n",
      "File \u001b[0;32m~/miniconda3/envs/timetabling/lib/python3.10/site-packages/pandas/core/indexing.py:1183\u001b[0m, in \u001b[0;36m_LocationIndexer.__getitem__\u001b[0;34m(self, key)\u001b[0m\n\u001b[1;32m   1181\u001b[0m     key \u001b[38;5;241m=\u001b[39m \u001b[38;5;28mtuple\u001b[39m(com\u001b[38;5;241m.\u001b[39mapply_if_callable(x, \u001b[38;5;28mself\u001b[39m\u001b[38;5;241m.\u001b[39mobj) \u001b[38;5;28;01mfor\u001b[39;00m x \u001b[38;5;129;01min\u001b[39;00m key)\n\u001b[1;32m   1182\u001b[0m     \u001b[38;5;28;01mif\u001b[39;00m \u001b[38;5;28mself\u001b[39m\u001b[38;5;241m.\u001b[39m_is_scalar_access(key):\n\u001b[0;32m-> 1183\u001b[0m         \u001b[38;5;28;01mreturn\u001b[39;00m \u001b[38;5;28;43mself\u001b[39;49m\u001b[38;5;241;43m.\u001b[39;49m\u001b[43mobj\u001b[49m\u001b[38;5;241;43m.\u001b[39;49m\u001b[43m_get_value\u001b[49m\u001b[43m(\u001b[49m\u001b[38;5;241;43m*\u001b[39;49m\u001b[43mkey\u001b[49m\u001b[43m,\u001b[49m\u001b[43m \u001b[49m\u001b[43mtakeable\u001b[49m\u001b[38;5;241;43m=\u001b[39;49m\u001b[38;5;28;43mself\u001b[39;49m\u001b[38;5;241;43m.\u001b[39;49m\u001b[43m_takeable\u001b[49m\u001b[43m)\u001b[49m\n\u001b[1;32m   1184\u001b[0m     \u001b[38;5;28;01mreturn\u001b[39;00m \u001b[38;5;28mself\u001b[39m\u001b[38;5;241m.\u001b[39m_getitem_tuple(key)\n\u001b[1;32m   1185\u001b[0m \u001b[38;5;28;01melse\u001b[39;00m:\n\u001b[1;32m   1186\u001b[0m     \u001b[38;5;66;03m# we by definition only have the 0th axis\u001b[39;00m\n",
      "File \u001b[0;32m~/miniconda3/envs/timetabling/lib/python3.10/site-packages/pandas/core/frame.py:4214\u001b[0m, in \u001b[0;36mDataFrame._get_value\u001b[0;34m(self, index, col, takeable)\u001b[0m\n\u001b[1;32m   4211\u001b[0m     series \u001b[38;5;241m=\u001b[39m \u001b[38;5;28mself\u001b[39m\u001b[38;5;241m.\u001b[39m_ixs(col, axis\u001b[38;5;241m=\u001b[39m\u001b[38;5;241m1\u001b[39m)\n\u001b[1;32m   4212\u001b[0m     \u001b[38;5;28;01mreturn\u001b[39;00m series\u001b[38;5;241m.\u001b[39m_values[index]\n\u001b[0;32m-> 4214\u001b[0m series \u001b[38;5;241m=\u001b[39m \u001b[38;5;28;43mself\u001b[39;49m\u001b[38;5;241;43m.\u001b[39;49m\u001b[43m_get_item_cache\u001b[49m\u001b[43m(\u001b[49m\u001b[43mcol\u001b[49m\u001b[43m)\u001b[49m\n\u001b[1;32m   4215\u001b[0m engine \u001b[38;5;241m=\u001b[39m \u001b[38;5;28mself\u001b[39m\u001b[38;5;241m.\u001b[39mindex\u001b[38;5;241m.\u001b[39m_engine\n\u001b[1;32m   4217\u001b[0m \u001b[38;5;28;01mif\u001b[39;00m \u001b[38;5;129;01mnot\u001b[39;00m \u001b[38;5;28misinstance\u001b[39m(\u001b[38;5;28mself\u001b[39m\u001b[38;5;241m.\u001b[39mindex, MultiIndex):\n\u001b[1;32m   4218\u001b[0m     \u001b[38;5;66;03m# CategoricalIndex: Trying to use the engine fastpath may give incorrect\u001b[39;00m\n\u001b[1;32m   4219\u001b[0m     \u001b[38;5;66;03m#  results if our categories are integers that dont match our codes\u001b[39;00m\n\u001b[1;32m   4220\u001b[0m     \u001b[38;5;66;03m# IntervalIndex: IntervalTree has no get_loc\u001b[39;00m\n",
      "File \u001b[0;32m~/miniconda3/envs/timetabling/lib/python3.10/site-packages/pandas/core/frame.py:4638\u001b[0m, in \u001b[0;36mDataFrame._get_item_cache\u001b[0;34m(self, item)\u001b[0m\n\u001b[1;32m   4633\u001b[0m res \u001b[38;5;241m=\u001b[39m cache\u001b[38;5;241m.\u001b[39mget(item)\n\u001b[1;32m   4634\u001b[0m \u001b[38;5;28;01mif\u001b[39;00m res \u001b[38;5;129;01mis\u001b[39;00m \u001b[38;5;28;01mNone\u001b[39;00m:\n\u001b[1;32m   4635\u001b[0m     \u001b[38;5;66;03m# All places that call _get_item_cache have unique columns,\u001b[39;00m\n\u001b[1;32m   4636\u001b[0m     \u001b[38;5;66;03m#  pending resolution of GH#33047\u001b[39;00m\n\u001b[0;32m-> 4638\u001b[0m     loc \u001b[38;5;241m=\u001b[39m \u001b[38;5;28;43mself\u001b[39;49m\u001b[38;5;241;43m.\u001b[39;49m\u001b[43mcolumns\u001b[49m\u001b[38;5;241;43m.\u001b[39;49m\u001b[43mget_loc\u001b[49m\u001b[43m(\u001b[49m\u001b[43mitem\u001b[49m\u001b[43m)\u001b[49m\n\u001b[1;32m   4639\u001b[0m     res \u001b[38;5;241m=\u001b[39m \u001b[38;5;28mself\u001b[39m\u001b[38;5;241m.\u001b[39m_ixs(loc, axis\u001b[38;5;241m=\u001b[39m\u001b[38;5;241m1\u001b[39m)\n\u001b[1;32m   4641\u001b[0m     cache[item] \u001b[38;5;241m=\u001b[39m res\n",
      "File \u001b[0;32m~/miniconda3/envs/timetabling/lib/python3.10/site-packages/pandas/core/indexes/base.py:3812\u001b[0m, in \u001b[0;36mIndex.get_loc\u001b[0;34m(self, key)\u001b[0m\n\u001b[1;32m   3807\u001b[0m     \u001b[38;5;28;01mif\u001b[39;00m \u001b[38;5;28misinstance\u001b[39m(casted_key, \u001b[38;5;28mslice\u001b[39m) \u001b[38;5;129;01mor\u001b[39;00m (\n\u001b[1;32m   3808\u001b[0m         \u001b[38;5;28misinstance\u001b[39m(casted_key, abc\u001b[38;5;241m.\u001b[39mIterable)\n\u001b[1;32m   3809\u001b[0m         \u001b[38;5;129;01mand\u001b[39;00m \u001b[38;5;28many\u001b[39m(\u001b[38;5;28misinstance\u001b[39m(x, \u001b[38;5;28mslice\u001b[39m) \u001b[38;5;28;01mfor\u001b[39;00m x \u001b[38;5;129;01min\u001b[39;00m casted_key)\n\u001b[1;32m   3810\u001b[0m     ):\n\u001b[1;32m   3811\u001b[0m         \u001b[38;5;28;01mraise\u001b[39;00m InvalidIndexError(key)\n\u001b[0;32m-> 3812\u001b[0m     \u001b[38;5;28;01mraise\u001b[39;00m \u001b[38;5;167;01mKeyError\u001b[39;00m(key) \u001b[38;5;28;01mfrom\u001b[39;00m \u001b[38;5;21;01merr\u001b[39;00m\n\u001b[1;32m   3813\u001b[0m \u001b[38;5;28;01mexcept\u001b[39;00m \u001b[38;5;167;01mTypeError\u001b[39;00m:\n\u001b[1;32m   3814\u001b[0m     \u001b[38;5;66;03m# If we have a listlike key, _check_indexing_error will raise\u001b[39;00m\n\u001b[1;32m   3815\u001b[0m     \u001b[38;5;66;03m#  InvalidIndexError. Otherwise we fall through and re-raise\u001b[39;00m\n\u001b[1;32m   3816\u001b[0m     \u001b[38;5;66;03m#  the TypeError.\u001b[39;00m\n\u001b[1;32m   3817\u001b[0m     \u001b[38;5;28mself\u001b[39m\u001b[38;5;241m.\u001b[39m_check_indexing_error(key)\n",
      "\u001b[0;31mKeyError\u001b[0m: 'ExamDuration'"
     ]
    }
   ],
   "source": [
    "#Dhruv's part:\n",
    "exam_spans = {c: data.begin_end_pairs(data.get_exam_duration(c)) for c in range(data.n_courses)}\n",
    "\n",
    "E = tt.addVars(\n",
    "    [\n",
    "        (c ,b ,e, d)\n",
    "        for c in range(data.n_courses)\n",
    "        for b, e in exam_spans[c]\n",
    "        for d in range(data.n_days)\n",
    "    ],\n",
    "    vtype=GRB.BINARY,\n",
    "    name=\"E\",\n",
    ")\n",
    "\n",
    "C = tt.addVars(\n",
    "    [\n",
    "        (c,r)\n",
    "        for c in range(data.n_courses)\n",
    "        for r in range(data.n_rooms)\n",
    "    ],\n",
    "    vtype=GRB.INTEGER,\n",
    "    lb=0,\n",
    "    name=\"C\",\n",
    ")\n"
   ]
  },
  {
   "cell_type": "markdown",
   "id": "c335ae54-6f8b-41f8-8d9d-088170c29d62",
   "metadata": {},
   "source": [
    "## Hard Constraints"
   ]
  },
  {
   "cell_type": "code",
   "execution_count": 26,
   "id": "c9830e10-64f1-49c1-abd0-14745dc3456b",
   "metadata": {},
   "outputs": [],
   "source": [
    "# Exactly one slot for each course\n",
    "# sum of enrolments in courses assigned to a room <= room capacity\n",
    "# no clash for any student\n",
    "# all slots for a course on any day are contiguous\n",
    "# exam lengths for each course\n",
    "\n",
    "\n",
    "# ---Modified Constraints--- (Sarvesh)\n",
    "# Exactly one continuous slot for each course satisying the length of the course\n",
    "# Exactly one room for each course\n",
    "# Exactly one day for each course"
   ]
  },
  {
   "cell_type": "markdown",
   "id": "9bbd7b14",
   "metadata": {},
   "source": [
    "## Hard Constraint 1: Exactly one continuous slot for each course satisying the length of the course (Sarvesh)\n",
    "\n",
    "$$\n",
    "\\sum_{r=1}^{\\text{data.n\\_rooms}}\\sum_{d=1}^{\\text{data.n\\_days}} \\sum_{t=1}^{\\text{data.n\\_times} - \\text{exam\\_slots}(c) + 1} \\sum_{t' = t}^{t + \\text{exam\\_slots}(c) - 1} \n",
    "\\text{feasibility\\_exam\\_slot}(\\text{times}[t], \\text{times}[t + \\text{exam\\_slots}(c) - 1], c) \\cdot E_{crt'd} = \\text{exam\\_slots}(c), \n",
    "$$\n",
    "\n",
    "\n",
    "$$\n",
    "\\sum_{r=1}^{\\text{data.n\\_rooms}}\\sum_{d=1}^{\\text{data.n\\_days}} \\sum_{t=1}^{\\text{data.n\\_times}} E_{crtd} = \\text{exam\\_slots}(c), \n",
    "$$\n",
    "\n",
    "$$\n",
    "\\forall c \\in \\{1, \\dots, \\text{data.n\\_courses}\\}.\n",
    "$$\n",
    "\n",
    "\n"
   ]
  },
  {
   "cell_type": "code",
   "execution_count": 27,
   "id": "c24a3a66",
   "metadata": {},
   "outputs": [
    {
     "data": {
      "text/plain": [
       "{}"
      ]
     },
     "execution_count": 27,
     "metadata": {},
     "output_type": "execute_result"
    }
   ],
   "source": [
    "# # Hard Constraint 1: Exactly one continuous slot for each course satisying the length of the course (Sarvesh)\n",
    "\n",
    "\n",
    "# ------------------------ Exam duration of a course doesn't exceed time slot allocated for the course------------------------\n",
    "def exam_length(course:int):\n",
    "    return data.get_exam_duration(course)\n",
    "    #returns the exam length of the course given the course id (in the 'course' dataframe)\n",
    "\n",
    "def exam_slots(course:int):\n",
    "    # return (data.get_exam_duration(course)//15)\n",
    "    return 6\n",
    "    #returns the number of slots required for the course given the course id (in the 'course' dataframe)\n",
    "\n",
    "\n",
    "def signum(x):\n",
    "    if x>0:\n",
    "        return 1\n",
    "    return 0\n",
    "\n",
    "#Dhruv's Part:\n",
    "\n",
    "tt.addConstrs(\n",
    "    (E.sum(c, '*', '*', '*') == 1 for c in range(data.n_courses)),\n",
    "    name=\"one_exam_per_course\",\n",
    ")"
   ]
  },
  {
   "cell_type": "markdown",
   "id": "c3620dee",
   "metadata": {},
   "source": [
    "## Hard Constraint 2: Sum of enrolments in courses assigned to a room <= room capacity (Sarvesh)\n",
    "\n",
    "$$\n",
    "\\sum_{c=1}^{\\text{data.n\\_courses}} \\text{enrollments\\_in\\_course}(c) \\cdot E_{crtd} \\leq \\text{room\\_capacity}(r)\n",
    "$$\n",
    "\n",
    "$$\n",
    "\\forall r \\in \\{1, \\dots, \\text{data.n\\_rooms}\\}, \\forall d \\in \\{1, \\dots, \\text{data.n\\_days}\\}, \\forall t \\in \\{1, \\dots, \\text{data.n\\_times}\\}.\n",
    "$$"
   ]
  },
  {
   "cell_type": "code",
   "execution_count": 28,
   "id": "364fca28",
   "metadata": {},
   "outputs": [
    {
     "data": {
      "text/plain": [
       "{}"
      ]
     },
     "execution_count": 28,
     "metadata": {},
     "output_type": "execute_result"
    }
   ],
   "source": [
    "# Hard Constraint 2: Sum of enrolments in courses assigned to a room <= room capacity (Sarvesh)\n",
    "\n",
    "\n",
    "def room_capacity(room:int):\n",
    "    return data.get_room_capacity(room)\n",
    "    #returns the capacity of the room given the room id (in the 'room' dataframe)\n",
    "    \n",
    "\n",
    "# Each exam is scheduled can be scheduled in atmost 3 rooms but at least 1 room\n",
    "tt.addConstrs(\n",
    "    (C.sum(signum(c, '*')) <= 3 for c in range(data.n_courses)),\n",
    "    name=\"atmost_3_rooms_per_course\",\n",
    ")\n",
    "tt.addConstrs(\n",
    "    (C.sum(signum(c, '*')) >= 1 for c in range(data.n_courses)),\n",
    "    name=\"atleast_1_room_per_course\",\n",
    ")\n",
    "\n",
    "# Capacity constraint - Multiple courses in a single room\n",
    "\n",
    "tt.addConstrs(\n",
    "    (gp.quicksum(C[c,r]*E[c,b,e,d]\n",
    "     for c in range(data.n_courses)\n",
    "     for r in range(data.n_rooms) <= room_capacity(r)\n",
    "     for b,e in exam_spans[c] \n",
    "     for d in range(data.n_days)\n",
    "     )\n",
    "    ),\n",
    "    name=\"room_capacity_constraint\",\n",
    "\n",
    ")"
   ]
  },
  {
   "cell_type": "markdown",
   "id": "93372140",
   "metadata": {},
   "source": [
    "## Hard Constraint 3: No Clash for any student (Sarvesh)\n",
    "\n",
    "$$\n",
    "\\sum_{\\substack{c=1 \\\\ \\text{if student $s$ is taking course $c$}}}^{\\text{data.n\\_courses}} \n",
    "\\sum_{r=1}^{\\text{data.n\\_rooms}} E_{crtd} \\leq 1,\n",
    "$$\n",
    "\n",
    "$$\n",
    "\\forall s \\in \\{1, \\dots, \\text{data.n\\_students}\\}, \\forall d \\in \\{1, \\dots, \\text{data.n\\_days}\\}, \\forall t \\in \\{1, \\dots, \\text{data.n\\_times}\\}.\n",
    "$$"
   ]
  },
  {
   "cell_type": "code",
   "execution_count": 29,
   "id": "2a3245aa",
   "metadata": {},
   "outputs": [
    {
     "data": {
      "text/plain": [
       "{}"
      ]
     },
     "execution_count": 29,
     "metadata": {},
     "output_type": "execute_result"
    }
   ],
   "source": [
    "# Hard Constraint 3: No clash for any student (Sarvesh)\n",
    "\n",
    "def check_student_taking_course(student:int,course:int):\n",
    "    #returns True if the student is taking the course given the student id and course id (in the 'student' and 'course' dataframe)\n",
    "    return data.check_student_taking_course(student,course)\n",
    "\n",
    "\n",
    "\n",
    "def covering_sessions(s:int, t:int):\n",
    "    # Return the list of begin-end pairs for session 's' overlapping with time 't'\n",
    "    return [(b,e) for b,e in exam_spans[s] if not overlap(b,e,t)]\n",
    "\n",
    "tt.addConstrs((gp.quicksum(signum(C[c,r])*E[c,b,e,d]\n",
    "                          for c in range(data.n_courses)\n",
    "                          for r in range(data.n_rooms)\n",
    "                          for b,e in covering_sessions(s, t)\n",
    "                          if check_student_taking_course(s,c)\n",
    "                          ) <= 1\n",
    "              for d in range(data.n_days)\n",
    "              for s in range(data.n_students)\n",
    "              for t in range(data.n_times)),\n",
    "              name='room_double_booking'\n",
    "             )\n",
    "\n"
   ]
  },
  {
   "cell_type": "code",
   "execution_count": null,
   "id": "5b0cbb99",
   "metadata": {},
   "outputs": [],
   "source": [
    "# Constraint 1: Each exam is scheduled exactly once\n",
    "tt.addConstrs(\n",
    "    (E.sum(c, '*', '*', '*') == 1 for c in range(data.n_courses)),\n",
    "    name=\"one_exam_per_course\",\n",
    ")\n",
    "\n",
    "# Constraint 2: Room capacity constraint C[c, r]*E[c, b, e, d] <= room_capacity[r] for all rooms\n",
    "\n",
    "tt.addConstrs(\n",
    "    # (\n",
    "    #     C[c, r] * E[c, b, e, d] <= data.room_capacities[r]\n",
    "    #     for c in range(data.n_courses)\n",
    "    #     for r in range(data.n_rooms)\n",
    "    #     for b, e in exam_spans[c]\n",
    "    #     for d in range(data.n_days)\n",
    "    # ),\n",
    "    (\n",
    "        C['*', r] * E.sum('*', '*', '*', '*') <= data.room_capacities[r] \n",
    "        for r in range(data.n_rooms)\n",
    "    ),\n",
    "    name=\"room_capacity_constraint\",\n",
    ")\n",
    "\n",
    "# Constraint 3: All students for a course should write the exam \n",
    "tt.addConstrs(\n",
    "    # (\n",
    "    #     C[c, r] * E[c, b, e, d] <= data.enrolments[c]\n",
    "    #     for c in range(data.n_courses)\n",
    "    #     for r in range(data.n_rooms)\n",
    "    #     for b, e in exam_spans[c]\n",
    "    #     for d in range(data.n_days)\n",
    "    # ),\n",
    "    (\n",
    "        C[c, '*'] * E.sum(c, '*', '*', '*') <= data.enrolments[c]\n",
    "        for c in range(data.n_courses)\n",
    "    ),\n",
    "    name=\"course_enrollment_constraint\",\n",
    ")\n",
    "\n",
    "# Constraint 4: Student clash constraint\n",
    "\n",
    "# for each student, for each day, for each time slot, at most one exam\n",
    "# sigma Ecbed <= 1 for courses enrolled by student s\n",
    "\n",
    "tt.addConstrs(\n",
    "    (\n",
    "        gp.quicksum(E[c, '*', '*', '*'] for c in data.student_courses[s]) <= 1\n",
    "        for s in range(data.n_students)\n",
    "    ),\n",
    "    name=\"student_clash_constraint\",\n",
    ")\n",
    "\n",
    "# No course can have more than 3 rooms alloted\n",
    "tt.addConstrs(\n",
    "    (\n",
    "        gp.quicksum(signum(C[c, r]) for r in range(data.n_rooms)) <= 3\n",
    "        for c in range(data.n_courses)\n",
    "    ),\n",
    "    name=\"course_room_constraint\",\n",
    ")\n",
    "\n",
    "\n",
    "\n",
    "\n",
    "\n"
   ]
  },
  {
   "cell_type": "markdown",
   "id": "636189f2-0e2d-43b7-a58a-3b460f88ceea",
   "metadata": {},
   "source": [
    "## Soft Constraints"
   ]
  },
  {
   "cell_type": "code",
   "execution_count": 30,
   "id": "b02f7a73-f0df-4ebb-aa25-e369942c5116",
   "metadata": {},
   "outputs": [],
   "source": [
    "# preferred time slots for exams"
   ]
  },
  {
   "cell_type": "markdown",
   "id": "11d81b92-dfc0-41a4-8211-09cbed8cc6e5",
   "metadata": {},
   "source": [
    "## Objective Function"
   ]
  },
  {
   "cell_type": "code",
   "execution_count": 31,
   "id": "318db7dc-1640-48a8-8c37-d8bc9335ea98",
   "metadata": {},
   "outputs": [
    {
     "name": "stdout",
     "output_type": "stream",
     "text": [
      "Gurobi Optimizer version 12.0.0 build v12.0.0rc1 (linux64 - \"Ubuntu 22.04.1 LTS\")\n",
      "\n",
      "CPU model: 11th Gen Intel(R) Core(TM) i7-11800H @ 2.30GHz, instruction set [SSE2|AVX|AVX2|AVX512]\n",
      "Thread count: 8 physical cores, 16 logical processors, using up to 16 threads\n",
      "\n",
      "Optimize a model with 0 rows, 0 columns and 0 nonzeros\n",
      "Model fingerprint: 0xf9715da1\n",
      "Coefficient statistics:\n",
      "  Matrix range     [0e+00, 0e+00]\n",
      "  Objective range  [0e+00, 0e+00]\n",
      "  Bounds range     [0e+00, 0e+00]\n",
      "  RHS range        [0e+00, 0e+00]\n",
      "Presolve time: 0.02s\n",
      "Presolve: All rows and columns removed\n",
      "Iteration    Objective       Primal Inf.    Dual Inf.      Time\n",
      "       0    0.0000000e+00   0.000000e+00   0.000000e+00      0s\n",
      "\n",
      "Solved in 0 iterations and 0.03 seconds (0.00 work units)\n",
      "Optimal objective  0.000000000e+00\n"
     ]
    }
   ],
   "source": [
    "# Maximize Gaps between exams for a student / batch\n",
    "tt.optimize()"
   ]
  }
 ],
 "metadata": {
  "kernelspec": {
   "display_name": "timetabling",
   "language": "python",
   "name": "python3"
  },
  "language_info": {
   "codemirror_mode": {
    "name": "ipython",
    "version": 3
   },
   "file_extension": ".py",
   "mimetype": "text/x-python",
   "name": "python",
   "nbconvert_exporter": "python",
   "pygments_lexer": "ipython3",
   "version": "3.10.14"
  }
 },
 "nbformat": 4,
 "nbformat_minor": 5
}
