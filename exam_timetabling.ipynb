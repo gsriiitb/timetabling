{
 "cells": [
  {
   "cell_type": "code",
   "execution_count": 2,
   "id": "2054a344-4d33-4a4d-bd5b-e5d2ee3771df",
   "metadata": {},
   "outputs": [
    {
     "name": "stdout",
     "output_type": "stream",
     "text": [
      "Restricted license - for non-production use only - expires 2026-11-23\n"
     ]
    }
   ],
   "source": [
    "import gurobipy as gp\n",
    "from gurobipy import GRB\n",
    "from IPython.display import display, Math, Latex\n",
    "\n",
    "import import_ipynb\n",
    "import data_utils as data\n",
    "tt = gp.Model('IIITB Exams Timetable')"
   ]
  },
  {
   "cell_type": "markdown",
   "id": "6e804840-3e30-4bb3-9e06-754267faa576",
   "metadata": {},
   "source": [
    "## Make one binary variable for each room-course-timeslot-day combination\n",
    "$$E_{crtd} = \\left\\{\\begin{array}{ll}1 & \\mbox{if a course $c$ exam is scheduled in room $r$ at time $t$ on day $d$}\\\\0 & \\mbox{Otherwise}\\end{array}\\right.$$"
   ]
  },
  {
   "cell_type": "code",
   "execution_count": 3,
   "id": "ff3cd040-97c4-4598-b6d1-ac80e80675fd",
   "metadata": {},
   "outputs": [],
   "source": [
    "E = tt.addVars(\n",
    "    [\n",
    "        (c,r,t,d)\n",
    "        for c in range(data.n_courses)\n",
    "        for r in range(data.n_rooms)\n",
    "        for t in range(data.n_times)\n",
    "        for d in range(data.n_days)\n",
    "    ],\n",
    "    vtype=GRB.BINARY,\n",
    "    name=\"E\",\n",
    ")"
   ]
  },
  {
   "cell_type": "markdown",
   "id": "c335ae54-6f8b-41f8-8d9d-088170c29d62",
   "metadata": {},
   "source": [
    "## Hard Constraints"
   ]
  },
  {
   "cell_type": "code",
   "execution_count": null,
   "id": "c9830e10-64f1-49c1-abd0-14745dc3456b",
   "metadata": {},
   "outputs": [],
   "source": [
    "# Exactly one slot for each course\n",
    "# sum of enrolments in courses assigned to a room <= room capacity\n",
    "# no clash for any student\n",
    "# all slots for a course on any day are contiguous\n",
    "# exam lengths for each course"
   ]
  },
  {
   "cell_type": "markdown",
   "id": "636189f2-0e2d-43b7-a58a-3b460f88ceea",
   "metadata": {},
   "source": [
    "## Soft Constraints"
   ]
  },
  {
   "cell_type": "code",
   "execution_count": null,
   "id": "b02f7a73-f0df-4ebb-aa25-e369942c5116",
   "metadata": {},
   "outputs": [],
   "source": [
    "# preferred time slots for exams"
   ]
  },
  {
   "cell_type": "markdown",
   "id": "11d81b92-dfc0-41a4-8211-09cbed8cc6e5",
   "metadata": {},
   "source": [
    "## Objective Function"
   ]
  },
  {
   "cell_type": "code",
   "execution_count": null,
   "id": "318db7dc-1640-48a8-8c37-d8bc9335ea98",
   "metadata": {},
   "outputs": [],
   "source": [
    "# Maximize Gaps between exams for a student / batch"
   ]
  }
 ],
 "metadata": {
  "kernelspec": {
   "display_name": "Python 3 (ipykernel)",
   "language": "python",
   "name": "python3"
  },
  "language_info": {
   "codemirror_mode": {
    "name": "ipython",
    "version": 3
   },
   "file_extension": ".py",
   "mimetype": "text/x-python",
   "name": "python",
   "nbconvert_exporter": "python",
   "pygments_lexer": "ipython3",
   "version": "3.10.14"
  }
 },
 "nbformat": 4,
 "nbformat_minor": 5
}
