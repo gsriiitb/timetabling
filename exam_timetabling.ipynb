{
 "cells": [
  {
   "cell_type": "code",
   "execution_count": 1,
   "id": "2054a344-4d33-4a4d-bd5b-e5d2ee3771df",
   "metadata": {},
   "outputs": [
    {
     "name": "stdout",
     "output_type": "stream",
     "text": [
      "Restricted license - for non-production use only - expires 2026-11-23\n"
     ]
    }
   ],
   "source": [
    "import gurobipy as gp\n",
    "from gurobipy import GRB\n",
    "from IPython.display import display, Math, Latex\n",
    "\n",
    "import import_ipynb\n",
    "import data_utils as data\n",
    "tt = gp.Model('IIITB Exams Timetable')"
   ]
  },
  {
   "cell_type": "markdown",
   "id": "6e804840-3e30-4bb3-9e06-754267faa576",
   "metadata": {},
   "source": [
    "## Make one binary variable for each room-course-timeslot-day combination\n",
    "$$\n",
    "E_{crtd} =\n",
    "\\begin{cases} \n",
    "1 & \\text{if a course $c$ exam is scheduled in room $r$ at time $t$ on day $d$,} \\\\\n",
    "0 & \\text{Otherwise.}\n",
    "\\end{cases}\n",
    "$$"
   ]
  },
  {
   "cell_type": "code",
   "execution_count": 2,
   "id": "ff3cd040-97c4-4598-b6d1-ac80e80675fd",
   "metadata": {},
   "outputs": [],
   "source": [
    "E = tt.addVars(\n",
    "    [\n",
    "        (c,r,t,d)\n",
    "        for c in range(data.n_courses)\n",
    "        for r in range(data.n_rooms)\n",
    "        for t in range(data.n_times)\n",
    "        for d in range(data.n_days)\n",
    "    ],\n",
    "    vtype=GRB.BINARY,\n",
    "    name=\"E\",\n",
    ")"
   ]
  },
  {
   "cell_type": "markdown",
   "id": "c335ae54-6f8b-41f8-8d9d-088170c29d62",
   "metadata": {},
   "source": [
    "## Hard Constraints"
   ]
  },
  {
   "cell_type": "code",
   "execution_count": 3,
   "id": "c9830e10-64f1-49c1-abd0-14745dc3456b",
   "metadata": {},
   "outputs": [],
   "source": [
    "# Exactly one slot for each course\n",
    "# sum of enrolments in courses assigned to a room <= room capacity\n",
    "# no clash for any student\n",
    "# all slots for a course on any day are contiguous\n",
    "# exam lengths for each course\n",
    "\n",
    "\n",
    "# ---Modified Constraints--- (Sarvesh)\n",
    "# Exactly one continuous slot for each course satisying the length of the course\n",
    "# Exactly one room for each course\n",
    "# Exactly one day for each course"
   ]
  },
  {
   "cell_type": "markdown",
   "id": "9bbd7b14",
   "metadata": {},
   "source": [
    "## Hard Constraint 1: Exactly one continuous slot for each course satisying the length of the course (Sarvesh)\n",
    "\n",
    "$$\n",
    "\\sum_{r=1}^{\\text{data.n\\_rooms}}\\sum_{d=1}^{\\text{data.n\\_days}} \\sum_{t=1}^{\\text{data.n\\_times} - \\text{exam\\_slots}(c) + 1} \\sum_{t' = t}^{t + \\text{exam\\_slots}(c) - 1} \n",
    "\\text{feasibility\\_exam\\_slot}(\\text{times}[t], \\text{times}[t + \\text{exam\\_slots}(c) - 1], c) \\cdot E_{crt'd} = \\text{exam\\_slots}(c), \n",
    "$$\n",
    "\n",
    "\n",
    "$$\n",
    "\\sum_{r=1}^{\\text{data.n\\_rooms}}\\sum_{d=1}^{\\text{data.n\\_days}} \\sum_{t=1}^{\\text{data.n\\_times}} E_{crtd} = \\text{exam\\_slots}(c), \n",
    "$$\n",
    "\n",
    "$$\n",
    "\\forall c \\in \\{1, \\dots, \\text{data.n\\_courses}\\}.\n",
    "$$\n",
    "\n",
    "\n"
   ]
  },
  {
   "cell_type": "code",
   "execution_count": 4,
   "id": "c24a3a66",
   "metadata": {},
   "outputs": [],
   "source": [
    "# Hard Constraint 1: Exactly one continuous slot for each course satisying the length of the course (Sarvesh)\n",
    "\n",
    "\n",
    "# ------------------------ Exam duration of a course doesn't exceed time slot allocated for the course------------------------\n",
    "def exam_length(course:int):\n",
    "    return data.get_exam_duration(course)\n",
    "    #returns the exam length of the course given the course id (in the 'course' dataframe)\n",
    "\n",
    "def exam_slots(course:int):\n",
    "    return (data.get_exam_duration(course)//15) + 1\n",
    "    #returns the number of slots required for the course given the course id (in the 'course' dataframe)\n",
    "\n",
    "\n",
    "from datetime import datetime\n",
    "def time_to_minutes(time_str):\n",
    "    \"\"\"Convert time string to minutes since midnight.\"\"\"\n",
    "    time_obj = datetime.strptime(time_str, '%H:%M')\n",
    "    return time_obj.hour * 60 + time_obj.minute\n",
    "\n",
    "def feasibility_exam_slot(start, end, course):\n",
    "    \"\"\"Returns True if the start and end time is feasible for the course given the course id.\"\"\"\n",
    "    start_minutes = time_to_minutes(start)\n",
    "    end_minutes = time_to_minutes(end)\n",
    "    exam_length = exam_length(course)\n",
    "    # Check if the time difference matches the exam length\n",
    "    return (end_minutes - start_minutes)== exam_length\n",
    "\n",
    "#read as for each course c, for each room r, for each day d, for each time t in the day (t to t+exam_slots(c)), the sum of E[(c,r,t,d)] is equal to exam_slots(c)\n",
    "for c in range(data.n_courses):\n",
    "    tt.addConstr(\n",
    "        gp.quicksum(\n",
    "            feasibility_exam_slot(data.times[t],data.times[t+exam_slots(c)-1],c) * E[(c, r, t_, d)]\n",
    "            for r in range(data.n_rooms)\n",
    "            for d in range(data.n_days)\n",
    "            for t_ in range(t, t + exam_slots(c))\n",
    "            for t in range(data.n_times - exam_slots(c) + 1)\n",
    "        ) == exam_slots(c),\n",
    "        name=f\"Course {c} continuous slots\"\n",
    "    )\n",
    "\n",
    "for c in range(data.n_courses):\n",
    "    tt.addConstr(\n",
    "        gp.quicksum(\n",
    "            E[(c, r, t, d)] \n",
    "            for r in range(data.n_rooms) \n",
    "            for t in range(data.n_times) \n",
    "            for d in range(data.n_days)\n",
    "        ) == exam_slots(c),\n",
    "        name=f\"Course {c} slots overall\"\n",
    "    )\n"
   ]
  },
  {
   "cell_type": "markdown",
   "id": "c3620dee",
   "metadata": {},
   "source": [
    "## Hard Constraint 2: Sum of enrolments in courses assigned to a room <= room capacity (Sarvesh)\n",
    "\n",
    "$$\n",
    "\\sum_{c=1}^{\\text{data.n\\_courses}} \\text{enrollments\\_in\\_course}(c) \\cdot E_{crtd} \\leq \\text{room\\_capacity}(r)\n",
    "$$\n",
    "\n",
    "$$\n",
    "\\forall r \\in \\{1, \\dots, \\text{data.n\\_rooms}\\}, \\forall d \\in \\{1, \\dots, \\text{data.n\\_days}\\}, \\forall t \\in \\{1, \\dots, \\text{data.n\\_times}\\}.\n",
    "$$"
   ]
  },
  {
   "cell_type": "code",
   "execution_count": 5,
   "id": "364fca28",
   "metadata": {},
   "outputs": [],
   "source": [
    "# Hard Constraint 2: Sum of enrolments in courses assigned to a room <= room capacity (Sarvesh)\n",
    "\n",
    "def enrollments_in_course(course:int):\n",
    "    return data.get_length_course_taken_by_students(course)\n",
    "    #returns the number of enrolments in the course given the course id (in the 'course' dataframe)\n",
    "\n",
    "def room_capacity(room:int):\n",
    "    return data.get_room_capacity(room)\n",
    "    #returns the capacity of the room given the room id (in the 'room' dataframe)\n",
    "\n",
    "# read as for each room r, day d, time t, sum of enrolments in courses assigned to the room <= room capacity\n",
    "for r in range(data.n_rooms):\n",
    "    for d in range(data.n_days):\n",
    "        for t in range(data.n_times):\n",
    "            tt.addConstr(\n",
    "                gp.quicksum(\n",
    "                    enrollments_in_course(c) * E[(c, r, t, d)]\n",
    "                    for c in range(data.n_courses)\n",
    "                ) <= room_capacity(r),\n",
    "                name=f\"Room {r} day {d} time {t} capacity\"\n",
    "            )"
   ]
  },
  {
   "cell_type": "markdown",
   "id": "93372140",
   "metadata": {},
   "source": [
    "## Hard Constraint 3: No Clash for any student (Sarvesh)\n",
    "\n",
    "$$\n",
    "\\sum_{\\substack{c=1 \\\\ \\text{if student $s$ is taking course $c$}}}^{\\text{data.n\\_courses}} \n",
    "\\sum_{r=1}^{\\text{data.n\\_rooms}} E_{crtd} \\leq 1,\n",
    "$$\n",
    "\n",
    "$$\n",
    "\\forall s \\in \\{1, \\dots, \\text{data.n\\_students}\\}, \\forall d \\in \\{1, \\dots, \\text{data.n\\_days}\\}, \\forall t \\in \\{1, \\dots, \\text{data.n\\_times}\\}.\n",
    "$$"
   ]
  },
  {
   "cell_type": "code",
   "execution_count": 6,
   "id": "2a3245aa",
   "metadata": {},
   "outputs": [],
   "source": [
    "# Hard Constraint 3: No clash for any student (Sarvesh)\n",
    "\n",
    "def check_student_taking_course(student:int,course:int):\n",
    "    #returns True if the student is taking the course given the student id and course id (in the 'student' and 'course' dataframe)\n",
    "    return data.check_student_taking_course(student,course)\n",
    "\n",
    "for s in range(data.n_students):\n",
    "    for d in range(data.n_days):\n",
    "        for t in range(data.n_times):\n",
    "            tt.addConstr(\n",
    "                gp.quicksum(\n",
    "                    E[(c, r, t, d)]\n",
    "                    for c in range(data.n_courses)\n",
    "                    for r in range(data.n_rooms)\n",
    "                    if check_student_taking_course(s, c)\n",
    "                ) <= 1,\n",
    "                name=f\"Student {s} day {d} time {t} clash\"\n",
    "            )"
   ]
  },
  {
   "cell_type": "markdown",
   "id": "7ed0be7d",
   "metadata": {},
   "source": [
    "## Hard Constraint 4: Exactly one room for a course (Sarvesh)\n",
    "\n",
    "$$\n",
    "\\sum_{r=1}^{\\text{data.n\\_rooms}} \n",
    "\\text{signum}\\left(\n",
    "\\sum_{d=1}^{\\text{data.n\\_days}} \n",
    "\\sum_{t=1}^{\\text{data.n\\_times}} \n",
    "E_{crtd}\n",
    "\\right) = 1,\n",
    "$$\n",
    "\n",
    "$$\n",
    "\\forall c \\in \\{1, \\dots, \\text{data.n\\_courses}\\}.\n",
    "$$\n"
   ]
  },
  {
   "cell_type": "code",
   "execution_count": 7,
   "id": "8cb22b28",
   "metadata": {},
   "outputs": [],
   "source": [
    "# Hard Constraint 4: Exactly one room for each course (Sarvesh)\n",
    "\n",
    "def signum(x):\n",
    "    if x>0:\n",
    "        return 1\n",
    "    return 0\n",
    "\n",
    "for c in range(data.n_courses):\n",
    "    tt.addConstr(\n",
    "        gp.quicksum(\n",
    "            # E[(c, r, t, d)]\n",
    "            signum(gp.quicksum(\n",
    "                E[(c, r, t, d)]\n",
    "                for d in range(data.n_days)\n",
    "                for t in range(data.n_times)\n",
    "                )\n",
    "            )\n",
    "            for r in range(data.n_rooms)\n",
    "        ) == 1,\n",
    "        name=f\"Course {c} room\"\n",
    "    )"
   ]
  },
  {
   "cell_type": "markdown",
   "id": "674f518f",
   "metadata": {},
   "source": [
    "## Hard Constraint 5: Exactly one day for a course (Sarvesh)\n",
    "\n",
    "$$\n",
    "\\sum_{r=1}^{\\text{data.n\\_days}} \n",
    "\\text{signum}\\left(\n",
    "\\sum_{d=1}^{\\text{data.n\\_rooms}} \n",
    "\\sum_{t=1}^{\\text{data.n\\_times}} \n",
    "E_{crtd}\n",
    "\\right) = 1,\n",
    "$$\n",
    "\n",
    "$$\n",
    "\\forall c \\in \\{1, \\dots, \\text{data.n\\_courses}\\}.\n",
    "$$\n"
   ]
  },
  {
   "cell_type": "code",
   "execution_count": 8,
   "id": "aed41a19",
   "metadata": {},
   "outputs": [],
   "source": [
    "# Hard Constraint 5: Exactly one day for each course (Sarvesh)\n",
    "\n",
    "\n",
    "def signum(x):\n",
    "    if x>0:\n",
    "        return 1\n",
    "    return 0\n",
    "\n",
    "for c in range(data.n_courses):\n",
    "    tt.addConstr(\n",
    "        gp.quicksum(\n",
    "            # E[(c, r, t, d)]\n",
    "            signum(gp.quicksum(\n",
    "                E[(c, r, t, d)]\n",
    "                for r in range(data.n_rooms) \n",
    "                for t in range(data.n_times)\n",
    "                )\n",
    "            )\n",
    "            for d in range(data.n_days)\n",
    "        ) == 1,\n",
    "        name=f\"Course {c} day\"\n",
    "    )"
   ]
  },
  {
   "cell_type": "markdown",
   "id": "636189f2-0e2d-43b7-a58a-3b460f88ceea",
   "metadata": {},
   "source": [
    "## Soft Constraints"
   ]
  },
  {
   "cell_type": "code",
   "execution_count": 9,
   "id": "b02f7a73-f0df-4ebb-aa25-e369942c5116",
   "metadata": {},
   "outputs": [],
   "source": [
    "# preferred time slots for exams"
   ]
  },
  {
   "cell_type": "markdown",
   "id": "11d81b92-dfc0-41a4-8211-09cbed8cc6e5",
   "metadata": {},
   "source": [
    "## Objective Function"
   ]
  },
  {
   "cell_type": "code",
   "execution_count": 10,
   "id": "318db7dc-1640-48a8-8c37-d8bc9335ea98",
   "metadata": {},
   "outputs": [],
   "source": [
    "# Maximize Gaps between exams for a student / batch"
   ]
  }
 ],
 "metadata": {
  "kernelspec": {
   "display_name": "timetabling",
   "language": "python",
   "name": "python3"
  },
  "language_info": {
   "codemirror_mode": {
    "name": "ipython",
    "version": 3
   },
   "file_extension": ".py",
   "mimetype": "text/x-python",
   "name": "python",
   "nbconvert_exporter": "python",
   "pygments_lexer": "ipython3",
   "version": "3.10.14"
  }
 },
 "nbformat": 4,
 "nbformat_minor": 5
}
