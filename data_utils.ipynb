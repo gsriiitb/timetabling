{
 "cells": [
  {
   "cell_type": "code",
   "execution_count": 9,
   "id": "e8a40705-5e3f-4894-9e6f-5cd78a9440b1",
   "metadata": {},
   "outputs": [],
   "source": [
    "import pandas as pd\n",
    "from datetime import date"
   ]
  },
  {
   "cell_type": "markdown",
   "id": "7026a3ac-00bc-4e9e-846f-5f0e44a38dc8",
   "metadata": {},
   "source": [
    "## Time Slots"
   ]
  },
  {
   "cell_type": "code",
   "execution_count": 10,
   "id": "41560a91-1c42-4d9d-bc39-4b2320e91d58",
   "metadata": {},
   "outputs": [],
   "source": [
    "# Time Slots\n",
    "days = ['Mon', 'Tue', 'Wed', 'Thu', 'Fri']\n",
    "n_days = len(days)\n",
    "times = ['08:00', '08:15', '08:30', '08:45',\n",
    "         '09:00', '09:15', '09:30', '09:45',\n",
    "         '10:00', '10:15', '10:30', '10:45',\n",
    "         '11:00', '11:15', '11:30', '11:45',\n",
    "         '12:00', '12:15', '12:30', '12:45', '13:00',\n",
    "         '14:00', '14:15', '14:30', '14:45',\n",
    "         '15:00', '15:15', '15:30', '15:45',\n",
    "         '16:00', '16:15', '16:30', '16:45',\n",
    "         '17:00', '17:15', '17:30', '17:45', '18:00']\n",
    "n_times = len(times)\n",
    "lunch_time_index = times.index('13:00')\n",
    "pre_lunch_times = list(range(lunch_time_index + 1))\n",
    "post_lunch_times = list(range((lunch_time_index + 1), len(times)))\n",
    "\n",
    "def begin_end_pairs(session_len:int) -> list:\n",
    "    pairs = []\n",
    "    for s in times[0:-session_len]:\n",
    "        e = s + session_len\n",
    "        if (((s in pre_lunch_times) and (e in pre_lunch_times)) or\n",
    "            ((s in post_lunch_times) and (e in post_lunch_times))):\n",
    "            pairs.append((s,e))\n",
    "    return pairs\n",
    "    \n",
    "# No lectures start/end in these time slots (as (day, time) tuples) --- labs, tutorials are OK\n",
    "mon_2pm = (days.index('Mon'), times.index('14:00'),)\n",
    "wed_2pm = (days.index('Wed'), times.index('14:00'),)\n",
    "no_lecture_slots = ([(mon_2pm[0], t,) for t in range(mon_2pm[1], (mon_2pm[1] + 6))] +\n",
    "                    [(wed_2pm[0], t,) for t in range(wed_2pm[1], (wed_2pm[1] + 6))])\n",
    "\n",
    "def overlap(b:int, e:int, t:int) -> bool:\n",
    "    # Returns a bool indicating whether the intervel (b,e) contains time t\n",
    "    # b,e,t are indexes into the 'times' array\n",
    "    assert (0 <= b < n_times) and(0 <= e < n_times) and (0 <= t < n_times)\n",
    "    return (b <= t <= e)"
   ]
  },
  {
   "cell_type": "markdown",
   "id": "924dfc19-d0ed-46c8-9f3c-b003cdbe3383",
   "metadata": {},
   "source": [
    "## Classrooms"
   ]
  },
  {
   "cell_type": "code",
   "execution_count": 11,
   "id": "fe65229a-f34a-4a11-a017-393a9212f503",
   "metadata": {},
   "outputs": [],
   "source": [
    "classroom_cols = {'RoomNum': str, 'Capacity': int, 'Category': str,\n",
    "                  'HasProjector': bool, 'HasWacom': bool}\n",
    "classrooms = pd.read_csv('classroom_master.csv', dtype=classroom_cols)\n",
    "n_rooms = classrooms.shape[0]"
   ]
  },
  {
   "cell_type": "markdown",
   "id": "1b3e77cf-0318-4d60-8e19-825c05c74ce1",
   "metadata": {},
   "source": [
    "## Courses & Enrollment"
   ]
  },
  {
   "cell_type": "code",
   "execution_count": 14,
   "id": "9baefba1-b9fc-41e9-96fd-e3814e1235c4",
   "metadata": {},
   "outputs": [],
   "source": [
    "course_cols = {'Code': str, 'Title': str, 'IsElective': bool, 'Category': str,\n",
    "               'NeedProjector': bool, 'NeedWacom': bool, 'Classlength': int,\n",
    "               'ClassesPerWeek': int, 'NeedTAs': bool}\n",
    "courses = pd.read_csv('course_master.csv', dtype=course_cols)\n",
    "n_courses = courses.shape[0]\n",
    "enrollment_cols = {'CourseCode': str, 'RollNumber': str, 'Name': str}\n",
    "enrollment = pd.read_csv('enrolment_master.csv', dtype=enrollment_cols)"
   ]
  },
  {
   "cell_type": "markdown",
   "id": "3422934c-dcbf-4330-9aac-9669a5bbd439",
   "metadata": {},
   "source": [
    "## Faculty"
   ]
  },
  {
   "cell_type": "code",
   "execution_count": 13,
   "id": "b0c79ba3-a02e-4213-9a9a-c8132838511e",
   "metadata": {},
   "outputs": [],
   "source": [
    "faculty_cols = {'Name': str, 'Course': str, 'Start': str, 'End': str,\n",
    "                'PreferredSlot': str, 'Flexibility': int}\n",
    "faculty = pd.read_csv('faculty_master.csv', dtype=faculty_cols)"
   ]
  }
 ],
 "metadata": {
  "kernelspec": {
   "display_name": "Python 3 (ipykernel)",
   "language": "python",
   "name": "python3"
  },
  "language_info": {
   "codemirror_mode": {
    "name": "ipython",
    "version": 3
   },
   "file_extension": ".py",
   "mimetype": "text/x-python",
   "name": "python",
   "nbconvert_exporter": "python",
   "pygments_lexer": "ipython3",
   "version": "3.10.14"
  }
 },
 "nbformat": 4,
 "nbformat_minor": 5
}
